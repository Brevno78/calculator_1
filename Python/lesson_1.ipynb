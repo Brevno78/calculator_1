{
 "cells": [
  {
   "cell_type": "code",
   "execution_count": 1,
   "id": "63331a66",
   "metadata": {
    "execution": {
     "iopub.execute_input": "2024-08-24T11:12:26.634098Z",
     "iopub.status.busy": "2024-08-24T11:12:26.633297Z",
     "iopub.status.idle": "2024-08-24T11:12:26.646556Z",
     "shell.execute_reply": "2024-08-24T11:12:26.645516Z"
    },
    "papermill": {
     "duration": 0.019546,
     "end_time": "2024-08-24T11:12:26.649307",
     "exception": false,
     "start_time": "2024-08-24T11:12:26.629761",
     "status": "completed"
    },
    "tags": []
   },
   "outputs": [
    {
     "data": {
      "text/plain": [
       "'The module is dedicated to 1 lesson.'"
      ]
     },
     "execution_count": 1,
     "metadata": {},
     "output_type": "execute_result"
    }
   ],
   "source": [
    "\"\"\"The module is dedicated to 1 lesson.\"\"\""
   ]
  },
  {
   "cell_type": "code",
   "execution_count": 2,
   "id": "f55d7662",
   "metadata": {
    "execution": {
     "iopub.execute_input": "2024-08-24T11:12:26.654292Z",
     "iopub.status.busy": "2024-08-24T11:12:26.653669Z",
     "iopub.status.idle": "2024-08-24T11:12:26.658133Z",
     "shell.execute_reply": "2024-08-24T11:12:26.657137Z"
    },
    "papermill": {
     "duration": 0.009159,
     "end_time": "2024-08-24T11:12:26.660232",
     "exception": false,
     "start_time": "2024-08-24T11:12:26.651073",
     "status": "completed"
    },
    "tags": []
   },
   "outputs": [],
   "source": [
    "sum_numbers = 1 + 1"
   ]
  }
 ],
 "metadata": {
  "kaggle": {
   "accelerator": "none",
   "dataSources": [],
   "isGpuEnabled": false,
   "isInternetEnabled": true,
   "language": "python",
   "sourceType": "notebook"
  },
  "kernelspec": {
   "display_name": "base",
   "language": "python",
   "name": "python3"
  },
  "language_info": {
   "codemirror_mode": {
    "name": "ipython",
    "version": 3
   },
   "file_extension": ".py",
   "mimetype": "text/x-python",
   "name": "python",
   "nbconvert_exporter": "python",
   "pygments_lexer": "ipython3",
   "version": "3.10.14"
  },
  "papermill": {
   "default_parameters": {},
   "duration": 3.0146,
   "end_time": "2024-08-24T11:12:26.980690",
   "environment_variables": {},
   "exception": null,
   "input_path": "__notebook__.ipynb",
   "output_path": "__notebook__.ipynb",
   "parameters": {},
   "start_time": "2024-08-24T11:12:23.966090",
   "version": "2.6.0"
  }
 },
 "nbformat": 4,
 "nbformat_minor": 5
}
